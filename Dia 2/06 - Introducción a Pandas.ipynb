{
 "cells": [
  {
   "cell_type": "markdown",
   "metadata": {},
   "source": [
    "# 06 - Introducción a Pandas<br/> \n",
    "\n",
    "por Kevin Martinez-Folgar, MD.<br/>\n",
    "*<kmartinezfolgar@gmail.com>*<br/>\n",
    "*<kmartinez@incap.int>*\n",
    "\n",
    "<hr/>"
   ]
  },
  {
   "cell_type": "markdown",
   "metadata": {},
   "source": [
    "## Introducción a pandas\n",
    "![](http://pandas.pydata.org/_static/pandas_logo.png)\n",
    "\n",
    "**Pandas** es una libreria de Python que nos permite trabajar con bases de datos en forma \"Tabular\" como una tabla de SQL o una hoja de Excel.\n",
    "Tambien nos permite trabajar con datos ordenados o desordenados con series de tiempo y matrices de datos con filas y columnas. \n",
    "\n",
    "- Virtualmente cualquier dataset estadistico puede ser convertido a un objeto en Pandas para su limpieza, transformación y analisis. \n"
   ]
  },
  {
   "cell_type": "markdown",
   "metadata": {},
   "source": [
    "**Ventajas:**\n",
    "   - Facil manejo de valores perdidos \"missing\"\n",
    "   - Alineamiento de datos automatico y explicito\n",
    "   - Poderoso y flexible para agrupar datos, dividirlos y realizar operaciones entre datasets.\n",
    "   - Manejo de indices basado en etiquetas \n",
    "   - Manejo flexible para transformar la forma de bases de datos y creación de tablas pivote.\n",
    "   - Herramientas robustas para la importación de archivos CSV, Excel, HDF5, SQL, STATA, etc.\n",
    "   - FUncionalidad de series de tiempo."
   ]
  },
  {
   "cell_type": "code",
   "execution_count": null,
   "metadata": {
    "collapsed": true
   },
   "outputs": [],
   "source": []
  }
 ],
 "metadata": {
  "kernelspec": {
   "display_name": "Python 3",
   "language": "python",
   "name": "python3"
  },
  "language_info": {
   "codemirror_mode": {
    "name": "ipython",
    "version": 3
   },
   "file_extension": ".py",
   "mimetype": "text/x-python",
   "name": "python",
   "nbconvert_exporter": "python",
   "pygments_lexer": "ipython3",
   "version": "3.6.2"
  }
 },
 "nbformat": 4,
 "nbformat_minor": 2
}
